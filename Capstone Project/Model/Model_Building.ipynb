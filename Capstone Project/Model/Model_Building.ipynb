{
  "nbformat": 4,
  "nbformat_minor": 0,
  "metadata": {
    "colab": {
      "provenance": []
    },
    "kernelspec": {
      "name": "python3",
      "display_name": "Python 3"
    },
    "language_info": {
      "name": "python"
    }
  },
  "cells": [
    {
      "cell_type": "code",
      "source": [
        "import pandas as pd\n",
        "\n",
        "# Baca data dari file CSV\n",
        "df_tinggi_air = pd.read_csv('tinggi_air.csv')\n",
        "df_tinggi_air['tanggal'] = pd.to_datetime(df_tinggi_air['tanggal'])\n",
        "\n",
        "df_rainfall = pd.read_csv('laporan_iklim_harian.csv')\n",
        "df_rainfall['Tanggal'] = pd.to_datetime(df_rainfall['Tanggal'])\n",
        "\n",
        "# Cek duplikasi pada kolom indeks sebelum penggabungan\n",
        "print(df_tinggi_air['tanggal'].duplicated().any())\n",
        "print(df_rainfall['Tanggal'].duplicated().any())"
      ],
      "metadata": {
        "id": "UdC0a8hFibrD",
        "colab": {
          "base_uri": "https://localhost:8080/"
        },
        "outputId": "fa19711a-4935-4753-bf39-a25287a618ad"
      },
      "execution_count": null,
      "outputs": [
        {
          "output_type": "stream",
          "name": "stdout",
          "text": [
            "True\n",
            "False\n"
          ]
        },
        {
          "output_type": "stream",
          "name": "stderr",
          "text": [
            "<ipython-input-2-4c8e173e5877>:8: UserWarning: Parsing dates in DD/MM/YYYY format when dayfirst=False (the default) was specified. This may lead to inconsistently parsed dates! Specify a format to ensure consistent parsing.\n",
            "  df_rainfall['Tanggal'] = pd.to_datetime(df_rainfall['Tanggal'])\n"
          ]
        }
      ]
    },
    {
      "cell_type": "code",
      "source": [
        "# Hapus duplikasi pada kolom indeks df_tinggi_air\n",
        "df_tinggi_air = df_tinggi_air[~df_tinggi_air['tanggal'].duplicated()]\n",
        "\n",
        "# Merge data menggunakan pd.concat\n",
        "df_combined = pd.concat([df_tinggi_air.set_index('tanggal'), df_rainfall.set_index('Tanggal')], axis=1, join='outer')\n",
        "df_combined = df_combined.fillna(0)\n",
        "df_combined = df_combined.interpolate(method='linear')\n",
        "\n",
        "# Tampilkan DataFrame hasil penggabungan setelah interpolasi\n",
        "print(df_combined)"
      ],
      "metadata": {
        "colab": {
          "base_uri": "https://localhost:8080/"
        },
        "id": "AO20CXZlJkwc",
        "outputId": "fa5c18a0-22a0-42a3-d4ff-2cabb427c97c"
      },
      "execution_count": null,
      "outputs": [
        {
          "output_type": "stream",
          "name": "stdout",
          "text": [
            "                      nama_pintu_air    lokasi    latitude    longitude  \\\n",
            "2019-12-31 23:40:00  P.A. Istiqlal    Ciliwung  -6,168,254  106,831,350   \n",
            "2020-01-01 00:00:00                0         0           0            0   \n",
            "2020-01-01 00:10:00  P.A. Istiqlal    Ciliwung  -6,168,254  106,831,350   \n",
            "2020-01-01 00:40:00  P.A. Istiqlal    Ciliwung  -6,168,254  106,831,350   \n",
            "2020-01-01 01:10:00  P.A. Istiqlal    Ciliwung  -6,168,254  106,831,350   \n",
            "...                              ...       ...         ...          ...   \n",
            "2020-11-02 00:00:00                0         0           0            0   \n",
            "2020-11-03 00:00:00                0         0           0            0   \n",
            "2020-12-01 00:00:00                0         0           0            0   \n",
            "2020-12-02 00:00:00                0         0           0            0   \n",
            "2020-12-03 00:00:00                0         0           0            0   \n",
            "\n",
            "                     tinggi_air status_siaga  curah_hujan  \n",
            "2019-12-31 23:40:00      1850.0       Normal          0.0  \n",
            "2020-01-01 00:00:00         0.0            0        145.3  \n",
            "2020-01-01 00:10:00      2060.0       Normal          0.0  \n",
            "2020-01-01 00:40:00      2110.0       Normal          0.0  \n",
            "2020-01-01 01:10:00      2150.0       Normal          0.0  \n",
            "...                         ...          ...          ...  \n",
            "2020-11-02 00:00:00         0.0            0          0.0  \n",
            "2020-11-03 00:00:00         0.0            0          0.0  \n",
            "2020-12-01 00:00:00         0.0            0          4.3  \n",
            "2020-12-02 00:00:00         0.0            0          0.0  \n",
            "2020-12-03 00:00:00         0.0            0          7.7  \n",
            "\n",
            "[1355 rows x 7 columns]\n"
          ]
        }
      ]
    },
    {
      "cell_type": "code",
      "source": [
        "import numpy as np\n",
        "from sklearn.model_selection import train_test_split\n",
        "from sklearn.preprocessing import LabelEncoder, MinMaxScaler\n",
        "from tensorflow import keras\n",
        "from tensorflow.keras import layers\n",
        "\n",
        "# Menambahkan kolom status_siaga sebagai kategori\n",
        "label_encoder = LabelEncoder()\n",
        "df_combined['status_siaga_encoded'] = label_encoder.fit_transform(df_combined['status_siaga'].astype(str))\n",
        "\n",
        "# Menyiapkan data untuk model\n",
        "X = df_combined[['tinggi_air', 'curah_hujan']].values\n",
        "y = df_combined['status_siaga_encoded'].values\n",
        "\n",
        "# Normalisasi data\n",
        "scaler = MinMaxScaler()\n",
        "X_scaled = scaler.fit_transform(X)\n",
        "\n",
        "# Reshape data untuk LSTM (jumlah sample, jumlah timestep, jumlah fitur)\n",
        "X_reshaped = X_scaled.reshape((X_scaled.shape[0], 1, X_scaled.shape[1]))\n",
        "\n",
        "# Data splitting\n",
        "X_train, X_test, y_train, y_test = train_test_split(X_reshaped, y, test_size=0.2, random_state=42)\n",
        "\n",
        "# Model LSTM\n",
        "num_classes = len(np.unique(y))\n",
        "model = Sequential([\n",
        "    LSTM(64, activation='relu', input_shape=(X_train.shape[1], X_train.shape[2])),\n",
        "    Dropout(0.5),\n",
        "    Dense(32, activation='relu'),\n",
        "    Dense(num_classes, activation='softmax')\n",
        "])\n",
        "\n",
        "model.compile(optimizer='adam', loss='sparse_categorical_crossentropy', metrics=['accuracy'])\n",
        "\n",
        "# Model Training\n",
        "model.fit(X_train, y_train, epochs=50, batch_size=16, validation_split=0.2)\n",
        "\n",
        "# Evaluasi model\n",
        "test_loss, test_acc = model.evaluate(X_test, y_test)\n",
        "print(f'Test Accuracy: {test_acc}')\n",
        "\n",
        "# Prediksi untuk suatu timestamp tertentu\n",
        "new_data = np.array([[2000, 31.5]])\n",
        "new_data_scaled = scaler.transform(new_data)\n",
        "new_data_reshaped = new_data_scaled.reshape((1, 1, new_data_scaled.shape[1]))  # Reshape sesuai dengan format input model\n",
        "predictions = model.predict(new_data_reshaped)\n",
        "predicted_class = np.argmax(predictions[0])\n",
        "predicted_status = label_encoder.inverse_transform([predicted_class])[0]\n",
        "print(f'Predicted Status: {predicted_status}')"
      ],
      "metadata": {
        "colab": {
          "base_uri": "https://localhost:8080/"
        },
        "id": "L7mXkAI6MM2U",
        "outputId": "7efbfd1b-964f-49af-aefb-3a57b9779cbb"
      },
      "execution_count": null,
      "outputs": [
        {
          "output_type": "stream",
          "name": "stdout",
          "text": [
            "Epoch 1/50\n",
            "55/55 [==============================] - 2s 6ms/step - loss: 1.5410 - accuracy: 0.5087 - val_loss: 1.4556 - val_accuracy: 0.4931\n",
            "Epoch 2/50\n",
            "55/55 [==============================] - 0s 2ms/step - loss: 1.3246 - accuracy: 0.5329 - val_loss: 1.2496 - val_accuracy: 0.4931\n",
            "Epoch 3/50\n",
            "55/55 [==============================] - 0s 2ms/step - loss: 1.2041 - accuracy: 0.5329 - val_loss: 1.1933 - val_accuracy: 0.4931\n",
            "Epoch 4/50\n",
            "55/55 [==============================] - 0s 3ms/step - loss: 1.1544 - accuracy: 0.5329 - val_loss: 1.1486 - val_accuracy: 0.4931\n",
            "Epoch 5/50\n",
            "55/55 [==============================] - 0s 2ms/step - loss: 1.1141 - accuracy: 0.5329 - val_loss: 1.0876 - val_accuracy: 0.4931\n",
            "Epoch 6/50\n",
            "55/55 [==============================] - 0s 2ms/step - loss: 1.0455 - accuracy: 0.5340 - val_loss: 1.0060 - val_accuracy: 0.4931\n",
            "Epoch 7/50\n",
            "55/55 [==============================] - 0s 2ms/step - loss: 0.9804 - accuracy: 0.5790 - val_loss: 0.9164 - val_accuracy: 0.6774\n",
            "Epoch 8/50\n",
            "55/55 [==============================] - 0s 2ms/step - loss: 0.9020 - accuracy: 0.6597 - val_loss: 0.8144 - val_accuracy: 0.7558\n",
            "Epoch 9/50\n",
            "55/55 [==============================] - 0s 2ms/step - loss: 0.8183 - accuracy: 0.7313 - val_loss: 0.7223 - val_accuracy: 0.8111\n",
            "Epoch 10/50\n",
            "55/55 [==============================] - 0s 2ms/step - loss: 0.7393 - accuracy: 0.7647 - val_loss: 0.6514 - val_accuracy: 0.8111\n",
            "Epoch 11/50\n",
            "55/55 [==============================] - 0s 2ms/step - loss: 0.6666 - accuracy: 0.7797 - val_loss: 0.5801 - val_accuracy: 0.8111\n",
            "Epoch 12/50\n",
            "55/55 [==============================] - 0s 2ms/step - loss: 0.6041 - accuracy: 0.7958 - val_loss: 0.5259 - val_accuracy: 0.8111\n",
            "Epoch 13/50\n",
            "55/55 [==============================] - 0s 2ms/step - loss: 0.6009 - accuracy: 0.7889 - val_loss: 0.4975 - val_accuracy: 0.8111\n",
            "Epoch 14/50\n",
            "55/55 [==============================] - 0s 2ms/step - loss: 0.5256 - accuracy: 0.8166 - val_loss: 0.4638 - val_accuracy: 0.8111\n",
            "Epoch 15/50\n",
            "55/55 [==============================] - 0s 2ms/step - loss: 0.5082 - accuracy: 0.8155 - val_loss: 0.4495 - val_accuracy: 0.8111\n",
            "Epoch 16/50\n",
            "55/55 [==============================] - 0s 2ms/step - loss: 0.4999 - accuracy: 0.8097 - val_loss: 0.4097 - val_accuracy: 0.8295\n",
            "Epoch 17/50\n",
            "55/55 [==============================] - 0s 2ms/step - loss: 0.4731 - accuracy: 0.8281 - val_loss: 0.3896 - val_accuracy: 0.8249\n",
            "Epoch 18/50\n",
            "55/55 [==============================] - 0s 2ms/step - loss: 0.4548 - accuracy: 0.8328 - val_loss: 0.3711 - val_accuracy: 0.8295\n",
            "Epoch 19/50\n",
            "55/55 [==============================] - 0s 2ms/step - loss: 0.4406 - accuracy: 0.8304 - val_loss: 0.3632 - val_accuracy: 0.8295\n",
            "Epoch 20/50\n",
            "55/55 [==============================] - 0s 2ms/step - loss: 0.4401 - accuracy: 0.8466 - val_loss: 0.3571 - val_accuracy: 0.8295\n",
            "Epoch 21/50\n",
            "55/55 [==============================] - 0s 2ms/step - loss: 0.4365 - accuracy: 0.8362 - val_loss: 0.3481 - val_accuracy: 0.8295\n",
            "Epoch 22/50\n",
            "55/55 [==============================] - 0s 3ms/step - loss: 0.4270 - accuracy: 0.8385 - val_loss: 0.3481 - val_accuracy: 0.8433\n",
            "Epoch 23/50\n",
            "55/55 [==============================] - 0s 2ms/step - loss: 0.4169 - accuracy: 0.8489 - val_loss: 0.3331 - val_accuracy: 0.8433\n",
            "Epoch 24/50\n",
            "55/55 [==============================] - 0s 2ms/step - loss: 0.3934 - accuracy: 0.8478 - val_loss: 0.3313 - val_accuracy: 0.8618\n",
            "Epoch 25/50\n",
            "55/55 [==============================] - 0s 3ms/step - loss: 0.4121 - accuracy: 0.8408 - val_loss: 0.3164 - val_accuracy: 0.8479\n",
            "Epoch 26/50\n",
            "55/55 [==============================] - 0s 3ms/step - loss: 0.3924 - accuracy: 0.8547 - val_loss: 0.3088 - val_accuracy: 0.8525\n",
            "Epoch 27/50\n",
            "55/55 [==============================] - 0s 2ms/step - loss: 0.3807 - accuracy: 0.8535 - val_loss: 0.3136 - val_accuracy: 0.8618\n",
            "Epoch 28/50\n",
            "55/55 [==============================] - 0s 2ms/step - loss: 0.3922 - accuracy: 0.8512 - val_loss: 0.2985 - val_accuracy: 0.8525\n",
            "Epoch 29/50\n",
            "55/55 [==============================] - 0s 2ms/step - loss: 0.3806 - accuracy: 0.8466 - val_loss: 0.2955 - val_accuracy: 0.8618\n",
            "Epoch 30/50\n",
            "55/55 [==============================] - 0s 2ms/step - loss: 0.3766 - accuracy: 0.8616 - val_loss: 0.2920 - val_accuracy: 0.8618\n",
            "Epoch 31/50\n",
            "55/55 [==============================] - 0s 2ms/step - loss: 0.3724 - accuracy: 0.8570 - val_loss: 0.2909 - val_accuracy: 0.8618\n",
            "Epoch 32/50\n",
            "55/55 [==============================] - 0s 2ms/step - loss: 0.3732 - accuracy: 0.8558 - val_loss: 0.2878 - val_accuracy: 0.8433\n",
            "Epoch 33/50\n",
            "55/55 [==============================] - 0s 2ms/step - loss: 0.3515 - accuracy: 0.8674 - val_loss: 0.2803 - val_accuracy: 0.8479\n",
            "Epoch 34/50\n",
            "55/55 [==============================] - 0s 2ms/step - loss: 0.3653 - accuracy: 0.8466 - val_loss: 0.2907 - val_accuracy: 0.8571\n",
            "Epoch 35/50\n",
            "55/55 [==============================] - 0s 2ms/step - loss: 0.3546 - accuracy: 0.8593 - val_loss: 0.2743 - val_accuracy: 0.8756\n",
            "Epoch 36/50\n",
            "55/55 [==============================] - 0s 2ms/step - loss: 0.3403 - accuracy: 0.8685 - val_loss: 0.2737 - val_accuracy: 0.8618\n",
            "Epoch 37/50\n",
            "55/55 [==============================] - 0s 2ms/step - loss: 0.3627 - accuracy: 0.8604 - val_loss: 0.2754 - val_accuracy: 0.8802\n",
            "Epoch 38/50\n",
            "55/55 [==============================] - 0s 2ms/step - loss: 0.3658 - accuracy: 0.8431 - val_loss: 0.2748 - val_accuracy: 0.8618\n",
            "Epoch 39/50\n",
            "55/55 [==============================] - 0s 2ms/step - loss: 0.3542 - accuracy: 0.8627 - val_loss: 0.2635 - val_accuracy: 0.8571\n",
            "Epoch 40/50\n",
            "55/55 [==============================] - 0s 2ms/step - loss: 0.3464 - accuracy: 0.8651 - val_loss: 0.2699 - val_accuracy: 0.8756\n",
            "Epoch 41/50\n",
            "55/55 [==============================] - 0s 2ms/step - loss: 0.3501 - accuracy: 0.8674 - val_loss: 0.2605 - val_accuracy: 0.8664\n",
            "Epoch 42/50\n",
            "55/55 [==============================] - 0s 2ms/step - loss: 0.3376 - accuracy: 0.8674 - val_loss: 0.2708 - val_accuracy: 0.8664\n",
            "Epoch 43/50\n",
            "55/55 [==============================] - 0s 2ms/step - loss: 0.3170 - accuracy: 0.8812 - val_loss: 0.2462 - val_accuracy: 0.8894\n",
            "Epoch 44/50\n",
            "55/55 [==============================] - 0s 2ms/step - loss: 0.3394 - accuracy: 0.8570 - val_loss: 0.2545 - val_accuracy: 0.8710\n",
            "Epoch 45/50\n",
            "55/55 [==============================] - 0s 2ms/step - loss: 0.3284 - accuracy: 0.8674 - val_loss: 0.2623 - val_accuracy: 0.8802\n",
            "Epoch 46/50\n",
            "55/55 [==============================] - 0s 2ms/step - loss: 0.3356 - accuracy: 0.8708 - val_loss: 0.3213 - val_accuracy: 0.8525\n",
            "Epoch 47/50\n",
            "55/55 [==============================] - 0s 2ms/step - loss: 0.3152 - accuracy: 0.8800 - val_loss: 0.2436 - val_accuracy: 0.8986\n",
            "Epoch 48/50\n",
            "55/55 [==============================] - 0s 2ms/step - loss: 0.3246 - accuracy: 0.8616 - val_loss: 0.2433 - val_accuracy: 0.8802\n",
            "Epoch 49/50\n",
            "55/55 [==============================] - 0s 2ms/step - loss: 0.3203 - accuracy: 0.8627 - val_loss: 0.2406 - val_accuracy: 0.8848\n",
            "Epoch 50/50\n",
            "55/55 [==============================] - 0s 2ms/step - loss: 0.3205 - accuracy: 0.8697 - val_loss: 0.2476 - val_accuracy: 0.8802\n",
            "9/9 [==============================] - 0s 2ms/step - loss: 0.2343 - accuracy: 0.8930\n",
            "Test Accuracy: 0.892988920211792\n",
            "1/1 [==============================] - 0s 153ms/step\n",
            "Predicted Status: Normal\n"
          ]
        }
      ]
    }
  ]
}